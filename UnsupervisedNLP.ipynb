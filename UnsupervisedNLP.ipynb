{
 "cells": [
  {
   "cell_type": "code",
   "execution_count": 1,
   "metadata": {
    "collapsed": true
   },
   "outputs": [],
   "source": [
    "import numpy as np\n",
    "import pandas as pd\n",
    "import scipy\n",
    "import matplotlib.pyplot as plt\n",
    "import seaborn as sns\n",
    "%matplotlib inline"
   ]
  },
  {
   "cell_type": "code",
   "execution_count": 2,
   "metadata": {},
   "outputs": [
    {
     "name": "stdout",
     "output_type": "stream",
     "text": [
      "[nltk_data] Downloading package gutenberg to /Users/Beba/nltk_data...\n",
      "[nltk_data]   Package gutenberg is already up-to-date!\n",
      "[nltk_data] Downloading package punkt to /Users/Beba/nltk_data...\n",
      "[nltk_data]   Unzipping tokenizers/punkt.zip.\n",
      "['[ Emma by Jane Austen 1816 ]', 'VOLUME I', 'CHAPTER I', 'Emma Woodhouse , handsome , clever , and rich , with a comfortable home and happy disposition , seemed to unite some of the best blessings of existence ; and had lived nearly twenty - one years in the world with very little to distress or vex her .']\n"
     ]
    }
   ],
   "source": [
    "import nltk\n",
    "from nltk.corpus import gutenberg\n",
    "nltk.download('gutenberg')\n",
    "nltk.download('punkt')\n",
    "import re\n",
    "from sklearn.model_selection import train_test_split\n",
    "\n",
    "#reading in the data, this time in the form of paragraphs\n",
    "emma=gutenberg.paras('austen-emma.txt')\n",
    "#processing\n",
    "emma_paras=[]\n",
    "for paragraph in emma:\n",
    "    para=paragraph[0]\n",
    "    #removing the double-dash from all words\n",
    "    para=[re.sub(r'--','',word) for word in para]\n",
    "    #Forming each paragraph into a string and adding it to the list of strings.\n",
    "    emma_paras.append(' '.join(para))\n",
    "\n",
    "print(emma_paras[0:4])"
   ]
  },
  {
   "cell_type": "code",
   "execution_count": 3,
   "metadata": {},
   "outputs": [
    {
     "name": "stdout",
     "output_type": "stream",
     "text": [
      "Number of features: 1948\n",
      "Original sentence: A very few minutes more , however , completed the present trial .\n",
      "Tf_idf vector: {'minutes': 0.7127450310382584, 'present': 0.701423210857947}\n"
     ]
    }
   ],
   "source": [
    "from sklearn.feature_extraction.text import TfidfVectorizer\n",
    "\n",
    "X_train, X_test = train_test_split(emma_paras, test_size=0.4, random_state=0)\n",
    "\n",
    "vectorizer = TfidfVectorizer(max_df=0.5, # drop words that occur in more than half the paragraphs\n",
    "                             min_df=2, # only use words that appear at least twice\n",
    "                             stop_words='english', \n",
    "                             lowercase=True, #convert everything to lower case (since Alice in Wonderland has the HABIT of CAPITALIZING WORDS for EMPHASIS)\n",
    "                             use_idf=True,#we definitely want to use inverse document frequencies in our weighting\n",
    "                             norm=u'l2', #Applies a correction factor so that longer paragraphs and shorter paragraphs get treated equally\n",
    "                             smooth_idf=True #Adds 1 to all document frequencies, as if an extra document existed that used every word once.  Prevents divide-by-zero errors\n",
    "                            )\n",
    "\n",
    "\n",
    "#Applying the vectorizer\n",
    "emma_paras_tfidf=vectorizer.fit_transform(emma_paras)\n",
    "print(\"Number of features: %d\" % emma_paras_tfidf.get_shape()[1])\n",
    "\n",
    "#splitting into training and test sets\n",
    "X_train_tfidf, X_test_tfidf= train_test_split(emma_paras_tfidf, test_size=0.4, random_state=0)\n",
    "\n",
    "\n",
    "#Reshapes the vectorizer output into something people can read\n",
    "X_train_tfidf_csr = X_train_tfidf.tocsr()\n",
    "\n",
    "#number of paragraphs\n",
    "n = X_train_tfidf_csr.shape[0]\n",
    "#A list of dictionaries, one per paragraph\n",
    "tfidf_bypara = [{} for _ in range(0,n)]\n",
    "#List of features\n",
    "terms = vectorizer.get_feature_names()\n",
    "#for each paragraph, lists the feature words and their tf-idf scores\n",
    "for i, j in zip(*X_train_tfidf_csr.nonzero()):\n",
    "    tfidf_bypara[i][terms[j]] = X_train_tfidf_csr[i, j]\n",
    "\n",
    "#Keep in mind that the log base 2 of 1 is 0, so a tf-idf score of 0 indicates that the word was present once in that sentence.\n",
    "print('Original sentence:', X_train[5])\n",
    "print('Tf_idf vector:', tfidf_bypara[5])"
   ]
  },
  {
   "cell_type": "code",
   "execution_count": 13,
   "metadata": {},
   "outputs": [
    {
     "name": "stdout",
     "output_type": "stream",
     "text": [
      "Percent variance captured by all components:% 45.1889515490724\n",
      "Component 0:\n",
      "\" Oh !     0.99929\n",
      "\" Oh !     0.99929\n",
      "\" Oh !\"    0.99929\n",
      "\" Oh !     0.99929\n",
      "\" Oh !     0.99929\n",
      "\" Oh !     0.99929\n",
      "\" Oh !     0.99929\n",
      "\" Oh !     0.99929\n",
      "\" Oh !     0.99929\n",
      "\" Oh !     0.99929\n",
      "Name: 0, dtype: float64\n",
      "Component 1:\n",
      "\" You have made her too tall , Emma ,\" said Mr . Knightley .                                                                                                                0.634186\n",
      "\" You get upon delicate subjects , Emma ,\" said Mrs . Weston smiling ; \" remember that I am here . Mr .                                                                     0.576989\n",
      "\" I do not know what your opinion may be , Mrs . Weston ,\" said Mr . Knightley , \" of this great intimacy between Emma and Harriet Smith , but I think it a bad thing .\"    0.566648\n",
      "\" You are right , Mrs . Weston ,\" said Mr . Knightley warmly , \" Miss Fairfax is as capable as any of us of forming a just opinion of Mrs . Elton .                         0.559859\n",
      "\" There were misunderstandings between them , Emma ; he said so expressly .                                                                                                 0.528518\n",
      "Mr . Knightley might quarrel with her , but Emma could not quarrel with herself .                                                                                           0.521250\n",
      "Emma found that it was not Mr . Weston ' s fault that the number of privy councillors was not yet larger .                                                                  0.507436\n",
      "\" In one respect , perhaps , Mr . Elton ' s manners are superior to Mr . Knightley ' s or Mr . Weston ' s .                                                                 0.505779\n",
      "\" Emma ,\" said Mr . Knightley presently , \" I have a piece of news for you .                                                                                                0.502578\n",
      "\" Now ,\" said Emma , when they were fairly beyond the sweep gates , \" now Mr . Weston , do let me know what has happened .\"                                                 0.501128\n",
      "Name: 1, dtype: float64\n",
      "Component 2:\n",
      "CHAPTER I       0.998399\n",
      "CHAPTER V       0.998399\n",
      "CHAPTER X       0.998399\n",
      "CHAPTER I       0.998399\n",
      "CHAPTER I       0.998399\n",
      "CHAPTER V       0.998399\n",
      "CHAPTER X       0.998399\n",
      "CHAPTER X       0.998399\n",
      "CHAPTER V       0.998399\n",
      "CHAPTER XVII    0.996991\n",
      "Name: 2, dtype: float64\n",
      "Component 3:\n",
      "\" Ah !      0.992903\n",
      "\" Ah !\"     0.992903\n",
      "\" Ah !      0.992903\n",
      "But ah !    0.992903\n",
      "\" Ah !      0.992903\n",
      "\" Ah !      0.992903\n",
      "\" Ah !      0.992903\n",
      "But ah !    0.992903\n",
      "\" Ah !      0.992903\n",
      "\" Ah !      0.992903\n",
      "Name: 3, dtype: float64\n",
      "Component 4:\n",
      "\" There were misunderstandings between them , Emma ; he said so expressly .    0.650795\n",
      "Emma demurred .                                                                0.598821\n",
      "\" Are you well , my Emma ?\"                                                    0.598821\n",
      "Emma was silenced .                                                            0.588023\n",
      "At first it was downright dulness to Emma .                                    0.587027\n",
      "\" Emma , my dear Emma \"                                                        0.577088\n",
      "Emma could not resist .                                                        0.567551\n",
      "\" It is not now worth a regret ,\" said Emma .                                  0.561861\n",
      "\" For shame , Emma !                                                           0.545792\n",
      "\" I am ready ,\" said Emma , \" whenever I am wanted .\"                          0.514012\n",
      "Name: 4, dtype: float64\n"
     ]
    }
   ],
   "source": [
    "from sklearn.decomposition import TruncatedSVD\n",
    "from sklearn.pipeline import make_pipeline\n",
    "from sklearn.preprocessing import Normalizer\n",
    "\n",
    "#Our SVD data reducer.  We are going to reduce the feature space from 1379 to 130.\n",
    "svd= TruncatedSVD(130)\n",
    "lsa = make_pipeline(svd, Normalizer(copy=False))\n",
    "# Run SVD on the training data, then project the training data.\n",
    "X_train_lsa = lsa.fit_transform(X_train_tfidf)\n",
    "\n",
    "variance_explained=svd.explained_variance_ratio_\n",
    "total_variance = variance_explained.sum()\n",
    "print(\"Percent variance captured by all components: %\",total_variance*100)\n",
    "\n",
    "#Looking at what sorts of paragraphs our solution considers similar,\n",
    "#for the first five identified topics\n",
    "paras_by_component=pd.DataFrame(X_train_lsa,index=X_train)\n",
    "for i in range(5):\n",
    "    print('Component {}:'.format(i))\n",
    "    print(paras_by_component.loc[:,i].sort_values(ascending=False)[0:10])\n",
    "\n",
    "\n"
   ]
  },
  {
   "cell_type": "code",
   "execution_count": 5,
   "metadata": {},
   "outputs": [
    {
     "data": {
      "image/png": "[encoded data removed]",
      "text/plain": [
       "<matplotlib.figure.Figure at 0x118e514a8>"
      ]
     },
     "metadata": {},
     "output_type": "display_data"
    },
    {
     "name": "stdout",
     "output_type": "stream",
     "text": [
      "Key:\n",
      "0 That is _court_ .\n",
      "1 \" Yes , sir , I did indeed ; and I am very much obliged by your kind solicitude about me .\"\n",
      "2 \" How much his business engrosses him already is very plain from the circumstance of his forgetting to inquire for the book you recommended .\n",
      "3 To restrain him as much as might be , by her own manners , she was immediately preparing to speak with exquisite calmness and gravity of the weather and the night ; but scarcely had she begun , scarcely had they passed the sweep - gate and joined the other carriage , than she found her subject cut up  her hand seized  her attention demanded , and Mr . Elton actually making violent love to her : availing himself of the precious opportunity , declaring sentiments which must be already well known , hoping  fearing  adoring  ready to die if she refused him ; but flattering himself that his ardent attachment and unequalled love and unexampled passion could not fail of having some effect , and in short , very much resolved on being seriously accepted as soon as possible .\n",
      "4 Emma smiled and answered \" My visit was of use to the nervous part of her complaint , I hope ; but not even I can charm away a sore throat ; it is a most severe cold indeed .\n",
      "5 A very few minutes more , however , completed the present trial .\n",
      "6 \" I am delighted to hear you speak so stoutly on the subject ,\" replied Emma , smiling ; \" but you do not mean to deny that there was a time  and not very distant either  when you gave me reason to understand that you did care about him ?\"\n",
      "7 \" Very well ; and if he had intended to give her one , he would have told her so .\"\n",
      "8 Some laughed , and answered good - humouredly .\n",
      "9 \" There appeared such a perfectly good understanding among them all \" he began rather quickly , but checking himself , added , \" however , it is impossible for me to say on what terms they really were  how it might all be behind the scenes .\n"
     ]
    }
   ],
   "source": [
    "# Compute document similarity using LSA components\n",
    "similarity = np.asarray(np.asmatrix(X_train_lsa) * np.asmatrix(X_train_lsa).T)\n",
    "#Only taking the first 10 sentences\n",
    "sim_matrix=pd.DataFrame(similarity,index=X_train).iloc[0:10,0:10]\n",
    "#Making a plot\n",
    "ax = sns.heatmap(sim_matrix,yticklabels=range(10))\n",
    "plt.show()\n",
    "\n",
    "#Generating a key for the plot.\n",
    "print('Key:')\n",
    "for i in range(10):\n",
    "    print(i,sim_matrix.index[i])\n"
   ]
  },
  {
   "cell_type": "markdown",
   "metadata": {},
   "source": [
    "## My code goes here"
   ]
  },
  {
   "cell_type": "code",
   "execution_count": 14,
   "metadata": {
    "scrolled": false
   },
   "outputs": [
    {
     "name": "stdout",
     "output_type": "stream",
     "text": [
      "Percent variance captured by all components: % 45.1889515490724\n",
      "Component 0:\n",
      "\" Oh !         0.99929\n",
      "\" Oh !         0.99929\n",
      "\" Oh !         0.99929\n",
      "\" Oh !         0.99929\n",
      "\" Oh !         0.99929\n",
      "\" Oh !         0.99929\n",
      "\" Me ! oh !    0.99929\n",
      "\" Oh !         0.99929\n",
      "\" Oh !         0.99929\n",
      "\" Oh !\"        0.99929\n",
      "Name: 0, dtype: float64\n",
      "Component 1:\n",
      "\" Well , Mrs . Weston ,\" said Emma triumphantly when he left them , \" what do you say now to Mr . Knightley ' s marrying Jane Fairfax ?\"                                                                                                                                                                                                                                                                                                                                                                          0.675995\n",
      "Frank turned instantly to Emma , to claim her former promise ; and boasted himself an engaged man , which his father looked his most perfect approbation of  and it then appeared that Mrs . Weston was wanting _him_ to dance with Mrs . Elton himself , and that their business was to help to persuade him into it , which was done pretty soon . Mr . Weston and Mrs . Elton led the way , Mr . Frank Churchill and Miss Woodhouse followed .                                                                 0.603539\n",
      "After tea , Mr . and Mrs . Weston , and Mr . Elton sat down with Mr . Woodhouse to cards .                                                                                                                                                                                                                                                                                                                                                                                                                        0.566540\n",
      "The result of this distress was , that , with a much more voluntary , cheerful consent than his daughter had ever presumed to hope for at the moment , she was able to fix her wedding - day  and Mr . Elton was called on , within a month from the marriage of Mr . and Mrs . Robert Martin , to join the hands of Mr . Knightley and Miss Woodhouse .                                                                                                                                                          0.561616\n",
      "In this walk Emma and Mr . Weston found all the others assembled ; and towards this view she immediately perceived Mr . Knightley and Harriet distinct from the rest , quietly leading the way .                                                                                                                                                                                                                                                                                                                  0.557591\n",
      "\" He is a person I never think of from one month ' s end to another ,\" said Mr . Knightley , with a degree of vexation , which made Emma immediately talk of something else , though she could not comprehend why he should be angry .                                                                                                                                                                                                                                                                            0.557548\n",
      "\" Mrs . Weston ' s manners ,\" said Emma , \" were always particularly good .                                                                                                                                                                                                                                                                                                                                                                                                                                       0.546234\n",
      "Emma was more than half in hopes of Mr . Elton ' s having dropt a hint .                                                                                                                                                                                                                                                                                                                                                                                                                                          0.543902\n",
      "He had frightened her a little about Mr . Elton ; but when she considered that Mr . Knightley could not have observed him as she had done , neither with the interest , nor ( she must be allowed to tell herself , in spite of Mr . Knightley ' s pretensions ) with the skill of such an observer on such a question as herself , that he had spoken it hastily and in anger , she was able to believe , that he had rather said what he wished resentfully to be true , than what he knew any thing about .    0.539905\n",
      "\" Well ,\" said Emma , \" there is no disputing about taste . At least you admire her except her complexion .\"                                                                                                                                                                                                                                                                                                                                                                                                      0.532931\n",
      "Name: 1, dtype: float64\n",
      "Component 2:\n",
      "CHAPTER XV       0.998399\n",
      "CHAPTER XVIII    0.998399\n",
      "CHAPTER XV       0.998399\n",
      "CHAPTER XVIII    0.998399\n",
      "CHAPTER XV       0.998399\n",
      "CHAPTER XVIII    0.998399\n",
      "CHAPTER XIX      0.998399\n",
      "CHAPTER XVII     0.996991\n",
      "CHAPTER XVII     0.996991\n",
      "CHAPTER XII      0.996988\n",
      "Name: 2, dtype: float64\n",
      "Component 3:\n",
      "\" Ah !     0.992903\n",
      "\" Ah !     0.992903\n",
      "\" Ah !     0.992903\n",
      "\" Ah !\"    0.992903\n",
      "\" Ah !     0.992903\n",
      "\" Ah !     0.992903\n",
      "\" Ah !     0.992903\n",
      "\" Ah !     0.992903\n",
      "\" Ah !     0.992903\n",
      "\" Ah !     0.992903\n",
      "Name: 3, dtype: float64\n",
      "Component 4:\n",
      "Nobody had any information to give ; and , after a few more wonderings , Emma said ,                            0.630472\n",
      "\" No , no ,\" said Emma , \" it will not reckon low .                                                             0.628199\n",
      "\" Well ,\" said Emma , \" there is no disputing about taste . At least you admire her except her complexion .\"    0.621189\n",
      "\" Emma !\"                                                                                                       0.598821\n",
      "Emma had done .                                                                                                 0.598821\n",
      "\" My Emma !\"                                                                                                    0.598821\n",
      "\" Emma ,\" said she , \" this paper is worse than I expected .                                                    0.596184\n",
      "Emma wondered on what , of all the medley , she would fix .                                                     0.594125\n",
      "\" And I do envy him , Emma .                                                                                    0.593625\n",
      "\" No ,\" said Emma , laughing ; \" but perhaps there might be some made to his coming back again .                0.556200\n",
      "Name: 4, dtype: float64\n"
     ]
    }
   ],
   "source": [
    "# Remember, you will use the same model, only with the test set data.  Don't fit a new model by mistake!\n",
    "test_lsa = lsa.transform(X_test_tfidf)\n",
    "\n",
    "variance_explained=svd.explained_variance_ratio_\n",
    "total_variance = variance_explained.sum()\n",
    "print(\"Percent variance captured by all components: %\",total_variance*100)\n",
    "\n",
    "paras_by_component = pd.DataFrame(test_lsa, index=X_test)\n",
    "for i in range(5):\n",
    "    print('Component {}:'.format(i))\n",
    "    print(paras_by_component.loc[:,i].sort_values(ascending=False)[0:10])\n",
    "\n"
   ]
  },
  {
   "cell_type": "code",
   "execution_count": 7,
   "metadata": {
    "scrolled": false
   },
   "outputs": [
    {
     "data": {
      "image/png": "[encoded data removed]",
      "text/plain": [
       "<matplotlib.figure.Figure at 0x119246278>"
      ]
     },
     "metadata": {},
     "output_type": "display_data"
    },
    {
     "name": "stdout",
     "output_type": "stream",
     "text": [
      "Key:\n",
      "0 Mr . Woodhouse had so completely made up his mind to the visit , that in spite of the increasing coldness , he seemed to have no idea of shrinking from it , and set forward at last most punctually with his eldest daughter in his own carriage , with less apparent consciousness of the weather than either of the others ; too full of the wonder of his own going , and the pleasure it was to afford at Randalls to see that it was cold , and too well wrapt up to feel it .\n",
      "1 \" Oh !\n",
      "2 \" Oh no , no !\n",
      "3 Such was Jane Fairfax ' s history .\n",
      "4 \" That has been a good deal the case , my dear ; but not to the degree you mention .\n",
      "5 \" And I am quite serious too , I assure you ,\" replied Mrs . Elton gaily , \" in resolving to be always on the watch , and employing my friends to watch also , that nothing really unexceptionable may pass us .\"\n",
      "6 \" And here is Mrs . Weston and Mr . Frank Churchill too ! Quite delightful ; so many friends !\"\n",
      "7 \" You may well class the delight , the honour , and the comfort of such a situation together ,\" said Jane , \" they are pretty sure to be equal ; however , I am very serious in not wishing any thing to be attempted at present for me .\n",
      "8 Harriet , Mr . Elton , and Mr . Knightley , their own especial set , were the only persons invited to meet them ; the hours were to be early , as well as the numbers few ; Mr . Woodhouse ' s habits and inclination being consulted in every thing .\n",
      "9 \" Oh !\n"
     ]
    }
   ],
   "source": [
    "similarity2 = np.asarray(np.asmatrix(test_lsa) * np.asmatrix(test_lsa).T)\n",
    "#Only taking the first 10 sentences\n",
    "sim_matrix2=pd.DataFrame(similarity2,index=X_test).iloc[0:10,0:10]\n",
    "#Making a plot\n",
    "ax = sns.heatmap(sim_matrix2,yticklabels=range(10))\n",
    "plt.show()\n",
    "\n",
    "#Generating a key for the plot.\n",
    "print('Key:')\n",
    "for i in range(10):\n",
    "    print(i,sim_matrix2.index[i])\n"
   ]
  },
  {
   "cell_type": "markdown",
   "metadata": {},
   "source": [
    "## Tweaks go here"
   ]
  },
  {
   "cell_type": "code",
   "execution_count": 17,
   "metadata": {},
   "outputs": [
    {
     "name": "stdout",
     "output_type": "stream",
     "text": [
      "Number of features: 1948\n",
      "Original sentence: A very few minutes more , however , completed the present trial .\n",
      "Tf_idf vector: {'minutes': 0.7127450310382584, 'present': 0.701423210857947}\n"
     ]
    }
   ],
   "source": [
    "# new vectorizor\n",
    "vectorizer2 = TfidfVectorizer(max_df=0.4, # drop words that occur in more than half the paragraphs\n",
    "                             min_df=10, # only use words that appear at least twice\n",
    "                             stop_words='english', \n",
    "                             lowercase=True, #convert everything to lower case (since Alice in Wonderland has the HABIT of CAPITALIZING WORDS for EMPHASIS)\n",
    "                             use_idf=True,#we definitely want to use inverse document frequencies in our weighting\n",
    "                             norm=u'l2', #Applies a correction factor so that longer paragraphs and shorter paragraphs get treated equally\n",
    "                             smooth_idf=True #Adds 1 to all document frequencies, as if an extra document existed that used every word once.  Prevents divide-by-zero errors\n",
    "                            )\n",
    "\n",
    "emma_paras_tfidf2=vectorizer2.fit_transform(emma_paras)\n",
    "print(\"Number of features: %d\" % emma_paras_tfidf.get_shape()[1])\n",
    "\n",
    "X_train_tfidf2, X_test_tfidf2 = train_test_split(emma_paras_tfidf2, test_size=0.4, random_state=0)\n",
    "\n",
    "X_train_tfidf_csr2 = X_train_tfidf2.tocsr()\n",
    "\n",
    "n = X_train_tfidf_csr2.shape[0]\n",
    "tfidf_bypara2 = [{} for _ in range(0,n)]\n",
    "terms2 = vectorizer2.get_feature_names()\n",
    "for i, j in zip(*X_train_tfidf_csr2.nonzero()):\n",
    "    tfidf_bypara2[i][terms2[j]] = X_train_tfidf_csr2[i, j]\n",
    "\n",
    "print('Original sentence:', X_train[5])\n",
    "print('Tf_idf vector:', tfidf_bypara2[5])"
   ]
  },
  {
   "cell_type": "code",
   "execution_count": 18,
   "metadata": {
    "scrolled": false
   },
   "outputs": [
    {
     "name": "stdout",
     "output_type": "stream",
     "text": [
      "Percent variance captured by all components: 69.33634487981037\n",
      "Component 0:\n",
      "\" Oh !     0.997662\n",
      "\" Oh !     0.997662\n",
      "\" Oh !     0.997662\n",
      "\" Oh !\"    0.997662\n",
      "\" Oh !     0.997662\n",
      "\" Oh !     0.997662\n",
      "\" Oh !     0.997662\n",
      "\" Oh !     0.997662\n",
      "\" Oh !     0.997662\n",
      "\" Oh !     0.997662\n",
      "Name: 0, dtype: float64\n",
      "Component 1:\n",
      "\" You have made her too tall , Emma ,\" said Mr . Knightley .                                                                                                                0.700264\n",
      "\" You get upon delicate subjects , Emma ,\" said Mrs . Weston smiling ; \" remember that I am here . Mr .                                                                     0.662712\n",
      "Emma found that it was not Mr . Weston ' s fault that the number of privy councillors was not yet larger .                                                                  0.636854\n",
      "Mr . Knightley might quarrel with her , but Emma could not quarrel with herself .                                                                                           0.625734\n",
      "\" There were misunderstandings between them , Emma ; he said so expressly .                                                                                                 0.594552\n",
      "\" It is not now worth a regret ,\" said Emma .                                                                                                                               0.594552\n",
      "\" Emma ,\" said Mr . Knightley presently , \" I have a piece of news for you .                                                                                                0.591142\n",
      "Emma could not have desired a more spirited rejection of Mr . Martin ' s prose .                                                                                            0.576417\n",
      "\" Now ,\" said Emma , when they were fairly beyond the sweep gates , \" now Mr . Weston , do let me know what has happened .\"                                                 0.572416\n",
      "\" I do not know what your opinion may be , Mrs . Weston ,\" said Mr . Knightley , \" of this great intimacy between Emma and Harriet Smith , but I think it a bad thing .\"    0.560303\n",
      "Name: 1, dtype: float64\n",
      "Component 2:\n",
      "CHAPTER I       1.0\n",
      "CHAPTER V       1.0\n",
      "CHAPTER VIII    1.0\n",
      "CHAPTER X       1.0\n",
      "CHAPTER VII     1.0\n",
      "CHAPTER XVI     1.0\n",
      "CHAPTER XII     1.0\n",
      "CHAPTER IV      1.0\n",
      "CHAPTER XVI     1.0\n",
      "CHAPTER X       1.0\n",
      "Name: 2, dtype: float64\n",
      "Component 3:\n",
      "This wretched note was the finale of Emma ' s breakfast .                                                                  0.692317\n",
      "Emma could not resist .                                                                                                    0.692317\n",
      "There was no bearing such an \" always ;\" and to break through her dreadful gratitude , Emma made the direct inquiry of     0.692317\n",
      "Emma demurred .                                                                                                            0.692317\n",
      "At first it was downright dulness to Emma .                                                                                0.692317\n",
      "\" For shame , Emma !                                                                                                       0.692317\n",
      "Emma was silenced .                                                                                                        0.692317\n",
      "He stopped . Emma dared not attempt any immediate reply .                                                                  0.692317\n",
      "\" Are you well , my Emma ?\"                                                                                                0.692317\n",
      "Emma was most sincerely interested .                                                                                       0.692317\n",
      "Name: 3, dtype: float64\n",
      "Component 4:\n",
      "\" Mr . Knightley was there too , was he ?\"                                                                                                               0.605197\n",
      "Mr . Knightley grew angry .                                                                                                                              0.605197\n",
      "\" Why will not you write one yourself for us , Mr .                                                                                                      0.586796\n",
      "\"` Mr .                                                                                                                                                  0.586796\n",
      "Mr . Knightley might quarrel with her , but Emma could not quarrel with herself .                                                                        0.570103\n",
      "Mr . Knightley had done all in his power for Mr . Woodhouse ' s entertainment .                                                                          0.536027\n",
      "Mr . Woodhouse at last was off ; but Mr . Knightley , instead of being immediately off likewise , sat down again , seemingly inclined for more chat .    0.506883\n",
      "Mr . Knightley , however , shewed no triumphant happiness .                                                                                              0.502807\n",
      "While waiting for the carriage , she found Mr . Knightley by her side .                                                                                  0.497046\n",
      "\" In one respect , perhaps , Mr . Elton ' s manners are superior to Mr . Knightley ' s or Mr . Weston ' s .                                              0.484568\n",
      "Name: 4, dtype: float64\n"
     ]
    }
   ],
   "source": [
    "#new vectorizer\n",
    "X_train_lsa2 = lsa.fit_transform(X_train_tfidf2)\n",
    "\n",
    "variance_explained2=svd.explained_variance_ratio_\n",
    "total_variance2 = variance_explained2.sum()\n",
    "print(\"Percent variance captured by all components:\",total_variance2*100)\n",
    "\n",
    "#Looking at what sorts of paragraphs our solution considers similar,\n",
    "#for the first five identified topics\n",
    "paras_by_component2=pd.DataFrame(X_train_lsa2,index=X_train)\n",
    "for i in range(5):\n",
    "    print('Component {}:'.format(i))\n",
    "    print(paras_by_component2.loc[:,i].sort_values(ascending=False)[0:10])\n"
   ]
  },
  {
   "cell_type": "code",
   "execution_count": 19,
   "metadata": {
    "scrolled": false
   },
   "outputs": [
    {
     "name": "stdout",
     "output_type": "stream",
     "text": [
      "Percent variance captured by all components: 69.33634487981037\n",
      "Component 0:\n",
      "\" Oh !         0.99929\n",
      "\" Oh !         0.99929\n",
      "\" Oh !         0.99929\n",
      "\" Oh !         0.99929\n",
      "\" Oh !         0.99929\n",
      "\" Oh !         0.99929\n",
      "\" Me ! oh !    0.99929\n",
      "\" Oh !         0.99929\n",
      "\" Oh !         0.99929\n",
      "\" Oh !\"        0.99929\n",
      "Name: 0, dtype: float64\n",
      "Component 1:\n",
      "\" Well , Mrs . Weston ,\" said Emma triumphantly when he left them , \" what do you say now to Mr . Knightley ' s marrying Jane Fairfax ?\"                                                                                                                                                                                                                                                                                                                                                                          0.675995\n",
      "Frank turned instantly to Emma , to claim her former promise ; and boasted himself an engaged man , which his father looked his most perfect approbation of  and it then appeared that Mrs . Weston was wanting _him_ to dance with Mrs . Elton himself , and that their business was to help to persuade him into it , which was done pretty soon . Mr . Weston and Mrs . Elton led the way , Mr . Frank Churchill and Miss Woodhouse followed .                                                                 0.603539\n",
      "After tea , Mr . and Mrs . Weston , and Mr . Elton sat down with Mr . Woodhouse to cards .                                                                                                                                                                                                                                                                                                                                                                                                                        0.566540\n",
      "The result of this distress was , that , with a much more voluntary , cheerful consent than his daughter had ever presumed to hope for at the moment , she was able to fix her wedding - day  and Mr . Elton was called on , within a month from the marriage of Mr . and Mrs . Robert Martin , to join the hands of Mr . Knightley and Miss Woodhouse .                                                                                                                                                          0.561616\n",
      "In this walk Emma and Mr . Weston found all the others assembled ; and towards this view she immediately perceived Mr . Knightley and Harriet distinct from the rest , quietly leading the way .                                                                                                                                                                                                                                                                                                                  0.557591\n",
      "\" He is a person I never think of from one month ' s end to another ,\" said Mr . Knightley , with a degree of vexation , which made Emma immediately talk of something else , though she could not comprehend why he should be angry .                                                                                                                                                                                                                                                                            0.557548\n",
      "\" Mrs . Weston ' s manners ,\" said Emma , \" were always particularly good .                                                                                                                                                                                                                                                                                                                                                                                                                                       0.546234\n",
      "Emma was more than half in hopes of Mr . Elton ' s having dropt a hint .                                                                                                                                                                                                                                                                                                                                                                                                                                          0.543902\n",
      "He had frightened her a little about Mr . Elton ; but when she considered that Mr . Knightley could not have observed him as she had done , neither with the interest , nor ( she must be allowed to tell herself , in spite of Mr . Knightley ' s pretensions ) with the skill of such an observer on such a question as herself , that he had spoken it hastily and in anger , she was able to believe , that he had rather said what he wished resentfully to be true , than what he knew any thing about .    0.539905\n",
      "\" Well ,\" said Emma , \" there is no disputing about taste . At least you admire her except her complexion .\"                                                                                                                                                                                                                                                                                                                                                                                                      0.532931\n",
      "Name: 1, dtype: float64\n",
      "Component 2:\n",
      "CHAPTER XV       0.998399\n",
      "CHAPTER XVIII    0.998399\n",
      "CHAPTER XV       0.998399\n",
      "CHAPTER XVIII    0.998399\n",
      "CHAPTER XV       0.998399\n",
      "CHAPTER XVIII    0.998399\n",
      "CHAPTER XIX      0.998399\n",
      "CHAPTER XVII     0.996991\n",
      "CHAPTER XVII     0.996991\n",
      "CHAPTER XII      0.996988\n",
      "Name: 2, dtype: float64\n",
      "Component 3:\n",
      "\" Ah !     0.992903\n",
      "\" Ah !     0.992903\n",
      "\" Ah !     0.992903\n",
      "\" Ah !\"    0.992903\n",
      "\" Ah !     0.992903\n",
      "\" Ah !     0.992903\n",
      "\" Ah !     0.992903\n",
      "\" Ah !     0.992903\n",
      "\" Ah !     0.992903\n",
      "\" Ah !     0.992903\n",
      "Name: 3, dtype: float64\n",
      "Component 4:\n",
      "Nobody had any information to give ; and , after a few more wonderings , Emma said ,                            0.630472\n",
      "\" No , no ,\" said Emma , \" it will not reckon low .                                                             0.628199\n",
      "\" Well ,\" said Emma , \" there is no disputing about taste . At least you admire her except her complexion .\"    0.621189\n",
      "\" Emma !\"                                                                                                       0.598821\n",
      "Emma had done .                                                                                                 0.598821\n",
      "\" My Emma !\"                                                                                                    0.598821\n",
      "\" Emma ,\" said she , \" this paper is worse than I expected .                                                    0.596184\n",
      "Emma wondered on what , of all the medley , she would fix .                                                     0.594125\n",
      "\" And I do envy him , Emma .                                                                                    0.593625\n",
      "\" No ,\" said Emma , laughing ; \" but perhaps there might be some made to his coming back again .                0.556200\n",
      "Name: 4, dtype: float64\n"
     ]
    }
   ],
   "source": [
    "#new vectorizer\n",
    "test_lsa2 = lsa.transform(X_test_tfidf2)\n",
    "\n",
    "variance_explained2_test=svd.explained_variance_ratio_\n",
    "total_variance2_test = variance_explained2_test.sum()\n",
    "print(\"Percent variance captured by all components:\",total_variance2_test*100)\n",
    "\n",
    "paras_by_component2_test = pd.DataFrame(test_lsa, index=X_test)\n",
    "for i in range(5):\n",
    "    print('Component {}:'.format(i))\n",
    "    print(paras_by_component2_test.loc[:,i].sort_values(ascending=False)[0:10])\n"
   ]
  },
  {
   "cell_type": "code",
   "execution_count": 20,
   "metadata": {},
   "outputs": [
    {
     "data": {
      "image/png": "[encoded data removed]",
      "text/plain": [
       "<matplotlib.figure.Figure at 0x119e38b00>"
      ]
     },
     "metadata": {},
     "output_type": "display_data"
    },
    {
     "name": "stdout",
     "output_type": "stream",
     "text": [
      "Key:\n",
      "0 That is _court_ .\n",
      "1 \" Yes , sir , I did indeed ; and I am very much obliged by your kind solicitude about me .\"\n",
      "2 \" How much his business engrosses him already is very plain from the circumstance of his forgetting to inquire for the book you recommended .\n",
      "3 To restrain him as much as might be , by her own manners , she was immediately preparing to speak with exquisite calmness and gravity of the weather and the night ; but scarcely had she begun , scarcely had they passed the sweep - gate and joined the other carriage , than she found her subject cut up  her hand seized  her attention demanded , and Mr . Elton actually making violent love to her : availing himself of the precious opportunity , declaring sentiments which must be already well known , hoping  fearing  adoring  ready to die if she refused him ; but flattering himself that his ardent attachment and unequalled love and unexampled passion could not fail of having some effect , and in short , very much resolved on being seriously accepted as soon as possible .\n",
      "4 Emma smiled and answered \" My visit was of use to the nervous part of her complaint , I hope ; but not even I can charm away a sore throat ; it is a most severe cold indeed .\n",
      "5 A very few minutes more , however , completed the present trial .\n",
      "6 \" I am delighted to hear you speak so stoutly on the subject ,\" replied Emma , smiling ; \" but you do not mean to deny that there was a time  and not very distant either  when you gave me reason to understand that you did care about him ?\"\n",
      "7 \" Very well ; and if he had intended to give her one , he would have told her so .\"\n",
      "8 Some laughed , and answered good - humouredly .\n",
      "9 \" There appeared such a perfectly good understanding among them all \" he began rather quickly , but checking himself , added , \" however , it is impossible for me to say on what terms they really were  how it might all be behind the scenes .\n"
     ]
    }
   ],
   "source": [
    "#new vectorizer\n",
    "similarity2 = np.asarray(np.asmatrix(X_train_lsa2) * np.asmatrix(X_train_lsa2).T)\n",
    "#Only taking the first 10 sentences\n",
    "sim_matrix2=pd.DataFrame(similarity2,index=X_train).iloc[0:10,0:10]\n",
    "#Making a plot\n",
    "ax = sns.heatmap(sim_matrix2,yticklabels=range(10))\n",
    "plt.show()\n",
    "\n",
    "#Generating a key for the plot.\n",
    "print('Key:')\n",
    "for i in range(10):\n",
    "    print(i,sim_matrix2.index[i])\n"
   ]
  },
  {
   "cell_type": "code",
   "execution_count": 21,
   "metadata": {},
   "outputs": [
    {
     "data": {
      "image/png": "[encoded data removed]",
      "text/plain": [
       "<matplotlib.figure.Figure at 0x119e2d240>"
      ]
     },
     "metadata": {},
     "output_type": "display_data"
    },
    {
     "name": "stdout",
     "output_type": "stream",
     "text": [
      "Key:\n",
      "0 Mr . Woodhouse had so completely made up his mind to the visit , that in spite of the increasing coldness , he seemed to have no idea of shrinking from it , and set forward at last most punctually with his eldest daughter in his own carriage , with less apparent consciousness of the weather than either of the others ; too full of the wonder of his own going , and the pleasure it was to afford at Randalls to see that it was cold , and too well wrapt up to feel it .\n",
      "1 \" Oh !\n",
      "2 \" Oh no , no !\n",
      "3 Such was Jane Fairfax ' s history .\n",
      "4 \" That has been a good deal the case , my dear ; but not to the degree you mention .\n",
      "5 \" And I am quite serious too , I assure you ,\" replied Mrs . Elton gaily , \" in resolving to be always on the watch , and employing my friends to watch also , that nothing really unexceptionable may pass us .\"\n",
      "6 \" And here is Mrs . Weston and Mr . Frank Churchill too ! Quite delightful ; so many friends !\"\n",
      "7 \" You may well class the delight , the honour , and the comfort of such a situation together ,\" said Jane , \" they are pretty sure to be equal ; however , I am very serious in not wishing any thing to be attempted at present for me .\n",
      "8 Harriet , Mr . Elton , and Mr . Knightley , their own especial set , were the only persons invited to meet them ; the hours were to be early , as well as the numbers few ; Mr . Woodhouse ' s habits and inclination being consulted in every thing .\n",
      "9 \" Oh !\n"
     ]
    }
   ],
   "source": [
    "#new vectorizer\n",
    "similarity2 = np.asarray(np.asmatrix(test_lsa2) * np.asmatrix(test_lsa2).T)\n",
    "#Only taking the first 10 sentences\n",
    "sim_matrix2=pd.DataFrame(similarity2,index=X_test).iloc[0:10,0:10]\n",
    "#Making a plot\n",
    "ax = sns.heatmap(sim_matrix2,yticklabels=range(10))\n",
    "plt.show()\n",
    "\n",
    "#Generating a key for the plot.\n",
    "print('Key:')\n",
    "for i in range(10):\n",
    "    print(i,sim_matrix2.index[i])\n"
   ]
  },
  {
   "cell_type": "markdown",
   "metadata": {},
   "source": [
    "First I record the settings as they are in the example. \n",
    "\n",
    "## Example model\n",
    "\n",
    "We instantiated our model with the following settings in place:\n",
    "max_df= .5 (to drop words that occur in more than half the paragraphs)\n",
    "min_df= 2 ( to only keep words that occur at least twice)\n",
    "stop_words= ‘english’\n",
    "lowercase=True ( lowercase everything)\n",
    "use_idf=True (use inverse document frequency in weighting)\n",
    "norm= u’l2’ (long and short paragraphs get treated equally)\n",
    "smooth_idf=True ( adds 1 to all doc frequencies to avoid divide by zero error)\n",
    "\n",
    "With these settings the estimator returned 1948 features. \n",
    "\n",
    "The next step was to reduce the dimentionality. They chose to use Singular Value Decomposition, rather than PCA to avoid mean-centering the variables and losing sparsity. \n",
    "\n",
    "The variance captured by those components left is 45.176%\n",
    "\n",
    "-Component 0 is in reference to the exclamation ‘Oh!’\n",
    "-Component 1 is in reference to Emma being spoken to or speaking\n",
    "-Component 2 is in reference to chapter labels\n",
    "-Component 3 is in reference to the exclamation ‘Ah!’\n",
    "-Component 4 is in reference to Emma speaking or acting directly\n",
    "\n",
    "The similarity matrix shows only sentences 4&8, and 8&9 are similar.\n",
    "\n",
    "### Running Test Data\n",
    "\n",
    "The first challenge/drill/practice they had me do was to try to fitted estimator with the test data. I found:\n",
    "\n",
    "The % variance captured is 45.189\n",
    "\n",
    "-Component 0 is in reference to the exclamation ‘Oh!’\n",
    "-Component 1 is in reference to Emma being spoken to or speaking\n",
    "-Component 2 is in reference to chapter labels\n",
    "-Component 3 is in reference to the exclamation ‘Ah!’\n",
    "-Component 4 is in reference to Emma speaking or acting directly\n",
    " \n",
    "The similarity matrix for the test set shows sentence 0 is little like 9, sentence 1 is like 2&9, and sentence 3 is little like sentence 7.\n",
    "\n",
    "### Changing hyperparameters\n",
    "\n",
    "I changed:\n",
    "max_df to .65,\n",
    "min_df to 5,\n",
    "Everything else stayed the same.\n",
    "\n",
    "After running the model again with the new hyper parameters, the feature numbers stayed the same, but the explained variance for the training set went up to 55.88%\n",
    "-Component 0 is in reference to the exclamation ‘Oh!’\n",
    "-Component 1 is in reference to Emma being spoken to or speaking\n",
    "-Component 2 is in reference to chapter labels\n",
    "-Component 3 switched from the exclamation ‘Ah!’ to Emma’s reactions or people speaking to her. \n",
    "-Component 4 changed to reference Mr.Knightley.\n",
    "\n",
    "On the test set with new Hparams, the captured variance is still 55.88%\n",
    "\n",
    "-Component 0 is in reference to the exclamation ‘Oh!’\n",
    "-Component 1 seems to be about Emma and Mrs. Weston speaking or interacting\n",
    "-Component 2 is in reference to chapter labels\n",
    "-Component 3 is in reference to the exclamation ‘Ah!’\n",
    "-Component 4 is more clearly about Emma.\n",
    "\n",
    "The similarity matrix shows only sentence 8&4 and 8&9 as similar.\n",
    "The similarity matrix for the test set shows only sentences 0&8 as mildly similar, 1&2 and 1&9 are similar and 2&9 are similar.\n",
    "\n",
    "\n",
    "### Change Hyperparameters again\n",
    "\n",
    "The next change is:\n",
    "max_df to .4,\n",
    "min_df to 10,\n",
    "Everything else stayed the same.\n",
    "\n",
    "The number of features stayed the same, but the captured variance went up to 69.336%\n",
    "\n",
    "-Component 0 is in reference to the exclamation ‘Oh!’\n",
    "-Component 1 seems to be about Emma and Mrs. Weston speaking or interacting\n",
    "-Component 2 is chapter labels \n",
    "-Component 3 is now short sentences to do with Emma directly. \n",
    "-Component 4 is now about Mr. Knightley.\n",
    "\n",
    "The captures variance for the test data rose to 69.336%.\n",
    "\n",
    "-Components for the test data:\n",
    "-Component 0 is in reference to the exclamation ‘Oh!’\n",
    "-Component 1 seems to be about Mrs. Weston speaking or interacting\n",
    "-Component 2 is in reference to chapter labels\n",
    "-Component 3 is the exclamation ‘Ah!’ \n",
    "-Component 4 is about Emma speaking or reacting\n",
    "\n",
    "The similarity in the training data only sentence 8&4 are similar. \n",
    "\n",
    "In the test data, sentences 0&8, and 7&3 are mildly similar. \n",
    "Sentences 1&2, and 1&9, and 2&9 are similar."
   ]
  },
  {
   "cell_type": "code",
   "execution_count": null,
   "metadata": {
    "collapsed": true
   },
   "outputs": [],
   "source": []
  }
 ],
 "metadata": {
  "kernelspec": {
   "display_name": "Python [default]",
   "language": "python",
   "name": "python3"
  },
  "language_info": {
   "codemirror_mode": {
    "name": "ipython",
    "version": 3
   },
   "file_extension": ".py",
   "mimetype": "text/x-python",
   "name": "python",
   "nbconvert_exporter": "python",
   "pygments_lexer": "ipython3",
   "version": "3.6.1"
  }
 },
 "nbformat": 4,
 "nbformat_minor": 2
}
