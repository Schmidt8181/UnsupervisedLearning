{
 "cells": [
  {
   "cell_type": "code",
   "execution_count": 1,
   "metadata": {
    "collapsed": true
   },
   "outputs": [],
   "source": [
    "import numpy as np\n",
    "import pandas as pd\n",
    "import scipy\n",
    "import matplotlib.pyplot as plt\n",
    "import seaborn as sns\n",
    "from sklearn.cluster import KMeans, MeanShift, estimate_bandwidth\n",
    "from sklearn.cluster import SpectralClustering, AffinityPropagation, MiniBatchKMeans\n",
    "from sklearn import metrics\n",
    "from sklearn.preprocessing import normalize\n",
    "from sklearn.decomposition import PCA\n",
    "%matplotlib inline"
   ]
  },
  {
   "cell_type": "code",
   "execution_count": 79,
   "metadata": {},
   "outputs": [
    {
     "data": {
      "text/html": [
       "<div>\n",
       "<style>\n",
       "    .dataframe thead tr:only-child th {\n",
       "        text-align: right;\n",
       "    }\n",
       "\n",
       "    .dataframe thead th {\n",
       "        text-align: left;\n",
       "    }\n",
       "\n",
       "    .dataframe tbody tr th {\n",
       "        vertical-align: top;\n",
       "    }\n",
       "</style>\n",
       "<table border=\"1\" class=\"dataframe\">\n",
       "  <thead>\n",
       "    <tr style=\"text-align: right;\">\n",
       "      <th></th>\n",
       "      <th>10k</th>\n",
       "      <th>name</th>\n",
       "      <th>division</th>\n",
       "      <th>25k</th>\n",
       "      <th>gender</th>\n",
       "      <th>age</th>\n",
       "      <th>official</th>\n",
       "      <th>bib</th>\n",
       "      <th>genderdiv</th>\n",
       "      <th>ctz</th>\n",
       "      <th>...</th>\n",
       "      <th>overall</th>\n",
       "      <th>pace</th>\n",
       "      <th>state</th>\n",
       "      <th>30k</th>\n",
       "      <th>5k</th>\n",
       "      <th>half</th>\n",
       "      <th>20k</th>\n",
       "      <th>country</th>\n",
       "      <th>city</th>\n",
       "      <th>40k</th>\n",
       "    </tr>\n",
       "  </thead>\n",
       "  <tbody>\n",
       "    <tr>\n",
       "      <th>0</th>\n",
       "      <td>17.37</td>\n",
       "      <td>Yamamoto, Hiroyuki</td>\n",
       "      <td>8</td>\n",
       "      <td>47.67</td>\n",
       "      <td>M</td>\n",
       "      <td>47</td>\n",
       "      <td>85.25</td>\n",
       "      <td>W1</td>\n",
       "      <td>8</td>\n",
       "      <td>NaN</td>\n",
       "      <td>...</td>\n",
       "      <td>8</td>\n",
       "      <td>3.27</td>\n",
       "      <td>NaN</td>\n",
       "      <td>59.18</td>\n",
       "      <td>8.02</td>\n",
       "      <td>39.72</td>\n",
       "      <td>37.65</td>\n",
       "      <td>JPN</td>\n",
       "      <td>Fukuoka</td>\n",
       "      <td>80.43</td>\n",
       "    </tr>\n",
       "    <tr>\n",
       "      <th>1</th>\n",
       "      <td>32.58</td>\n",
       "      <td>Jeptoo, Rita</td>\n",
       "      <td>1</td>\n",
       "      <td>82.43</td>\n",
       "      <td>F</td>\n",
       "      <td>33</td>\n",
       "      <td>138.95</td>\n",
       "      <td>F1</td>\n",
       "      <td>1</td>\n",
       "      <td>NaN</td>\n",
       "      <td>...</td>\n",
       "      <td>21</td>\n",
       "      <td>5.30</td>\n",
       "      <td>NaN</td>\n",
       "      <td>99.33</td>\n",
       "      <td>16.22</td>\n",
       "      <td>69.47</td>\n",
       "      <td>65.83</td>\n",
       "      <td>KEN</td>\n",
       "      <td>Eldoret</td>\n",
       "      <td>132.10</td>\n",
       "    </tr>\n",
       "    <tr>\n",
       "      <th>2</th>\n",
       "      <td>16.62</td>\n",
       "      <td>Van Dyk, Ernst F.</td>\n",
       "      <td>1</td>\n",
       "      <td>45.80</td>\n",
       "      <td>M</td>\n",
       "      <td>41</td>\n",
       "      <td>80.60</td>\n",
       "      <td>W2</td>\n",
       "      <td>1</td>\n",
       "      <td>NaN</td>\n",
       "      <td>...</td>\n",
       "      <td>1</td>\n",
       "      <td>3.08</td>\n",
       "      <td>NaN</td>\n",
       "      <td>56.45</td>\n",
       "      <td>7.75</td>\n",
       "      <td>38.03</td>\n",
       "      <td>36.10</td>\n",
       "      <td>RSA</td>\n",
       "      <td>Paarl</td>\n",
       "      <td>76.10</td>\n",
       "    </tr>\n",
       "    <tr>\n",
       "      <th>3</th>\n",
       "      <td>32.57</td>\n",
       "      <td>Dibaba, Mare</td>\n",
       "      <td>3</td>\n",
       "      <td>82.43</td>\n",
       "      <td>F</td>\n",
       "      <td>24</td>\n",
       "      <td>140.58</td>\n",
       "      <td>F2</td>\n",
       "      <td>3</td>\n",
       "      <td>NaN</td>\n",
       "      <td>...</td>\n",
       "      <td>27</td>\n",
       "      <td>5.37</td>\n",
       "      <td>NaN</td>\n",
       "      <td>99.33</td>\n",
       "      <td>16.20</td>\n",
       "      <td>69.47</td>\n",
       "      <td>65.83</td>\n",
       "      <td>ETH</td>\n",
       "      <td>Shoa</td>\n",
       "      <td>132.95</td>\n",
       "    </tr>\n",
       "    <tr>\n",
       "      <th>4</th>\n",
       "      <td>17.12</td>\n",
       "      <td>Hokinoue, Kota</td>\n",
       "      <td>2</td>\n",
       "      <td>46.37</td>\n",
       "      <td>M</td>\n",
       "      <td>40</td>\n",
       "      <td>81.23</td>\n",
       "      <td>W3</td>\n",
       "      <td>2</td>\n",
       "      <td>NaN</td>\n",
       "      <td>...</td>\n",
       "      <td>2</td>\n",
       "      <td>3.10</td>\n",
       "      <td>NaN</td>\n",
       "      <td>57.03</td>\n",
       "      <td>8.02</td>\n",
       "      <td>38.60</td>\n",
       "      <td>36.58</td>\n",
       "      <td>JPN</td>\n",
       "      <td>Nogata Fukuoka</td>\n",
       "      <td>76.72</td>\n",
       "    </tr>\n",
       "  </tbody>\n",
       "</table>\n",
       "<p>5 rows × 21 columns</p>\n",
       "</div>"
      ],
      "text/plain": [
       "     10k                name  division    25k gender  age  official bib  \\\n",
       "0  17.37  Yamamoto, Hiroyuki         8  47.67      M   47     85.25  W1   \n",
       "1  32.58        Jeptoo, Rita         1  82.43      F   33    138.95  F1   \n",
       "2  16.62   Van Dyk, Ernst F.         1  45.80      M   41     80.60  W2   \n",
       "3  32.57        Dibaba, Mare         3  82.43      F   24    140.58  F2   \n",
       "4  17.12      Hokinoue, Kota         2  46.37      M   40     81.23  W3   \n",
       "\n",
       "   genderdiv  ctz   ...   overall  pace  state    30k     5k   half    20k  \\\n",
       "0          8  NaN   ...         8  3.27    NaN  59.18   8.02  39.72  37.65   \n",
       "1          1  NaN   ...        21  5.30    NaN  99.33  16.22  69.47  65.83   \n",
       "2          1  NaN   ...         1  3.08    NaN  56.45   7.75  38.03  36.10   \n",
       "3          3  NaN   ...        27  5.37    NaN  99.33  16.20  69.47  65.83   \n",
       "4          2  NaN   ...         2  3.10    NaN  57.03   8.02  38.60  36.58   \n",
       "\n",
       "  country            city     40k  \n",
       "0     JPN         Fukuoka   80.43  \n",
       "1     KEN         Eldoret  132.10  \n",
       "2     RSA           Paarl   76.10  \n",
       "3     ETH            Shoa  132.95  \n",
       "4     JPN  Nogata Fukuoka   76.72  \n",
       "\n",
       "[5 rows x 21 columns]"
      ]
     },
     "execution_count": 79,
     "metadata": {},
     "output_type": "execute_result"
    }
   ],
   "source": [
    "data_path = (\"https://raw.githubusercontent.com/llimllib/bostonmarathon/master/results/2014/results.csv\")\n",
    "boston = pd.read_csv(data_path)\n",
    "boston.head()"
   ]
  },
  {
   "cell_type": "code",
   "execution_count": 3,
   "metadata": {},
   "outputs": [
    {
     "data": {
      "text/plain": [
       "Index(['10k', 'name', 'division', '25k', 'gender', 'age', 'official', 'bib',\n",
       "       'genderdiv', 'ctz', '35k', 'overall', 'pace', 'state', '30k', '5k',\n",
       "       'half', '20k', 'country', 'city', '40k'],\n",
       "      dtype='object')"
      ]
     },
     "execution_count": 3,
     "metadata": {},
     "output_type": "execute_result"
    }
   ],
   "source": [
    "boston.columns"
   ]
  },
  {
   "cell_type": "code",
   "execution_count": 32,
   "metadata": {},
   "outputs": [
    {
     "data": {
      "text/plain": [
       "10k           object\n",
       "name          object\n",
       "division       int64\n",
       "25k           object\n",
       "gender        object\n",
       "age            int64\n",
       "official     float64\n",
       "bib           object\n",
       "genderdiv      int64\n",
       "ctz           object\n",
       "35k           object\n",
       "overall        int64\n",
       "pace         float64\n",
       "state         object\n",
       "30k           object\n",
       "5k            object\n",
       "half          object\n",
       "20k           object\n",
       "country       object\n",
       "city          object\n",
       "40k           object\n",
       "dtype: object"
      ]
     },
     "execution_count": 32,
     "metadata": {},
     "output_type": "execute_result"
    }
   ],
   "source": [
    "boston.dtypes"
   ]
  },
  {
   "cell_type": "code",
   "execution_count": 80,
   "metadata": {
    "collapsed": true
   },
   "outputs": [],
   "source": [
    "# not gonna iterate, just gonna get it done\n",
    "boston['10k'] = pd.to_numeric(boston['10k'], errors='coerce')\n",
    "boston['25k'] = pd.to_numeric(boston['25k'], errors='coerce')\n",
    "boston['35k'] = pd.to_numeric(boston['35k'], errors='coerce')\n",
    "boston['30k'] = pd.to_numeric(boston['30k'], errors='coerce')\n",
    "boston['5k'] = pd.to_numeric(boston['5k'], errors='coerce')\n",
    "boston['half'] = pd.to_numeric(boston['half'], errors='coerce')\n",
    "boston['20k'] = pd.to_numeric(boston['20k'], errors='coerce')\n",
    "boston['40k'] = pd.to_numeric(boston['40k'], errors='coerce')\n"
   ]
  },
  {
   "cell_type": "code",
   "execution_count": 34,
   "metadata": {},
   "outputs": [
    {
     "data": {
      "text/plain": [
       "10k          float64\n",
       "name          object\n",
       "division       int64\n",
       "25k          float64\n",
       "gender        object\n",
       "age            int64\n",
       "official     float64\n",
       "bib           object\n",
       "genderdiv      int64\n",
       "ctz           object\n",
       "35k          float64\n",
       "overall        int64\n",
       "pace         float64\n",
       "state         object\n",
       "30k          float64\n",
       "5k           float64\n",
       "half         float64\n",
       "20k          float64\n",
       "country       object\n",
       "city          object\n",
       "40k          float64\n",
       "dtype: object"
      ]
     },
     "execution_count": 34,
     "metadata": {},
     "output_type": "execute_result"
    }
   ],
   "source": [
    "boston.dtypes"
   ]
  },
  {
   "cell_type": "code",
   "execution_count": 35,
   "metadata": {},
   "outputs": [
    {
     "data": {
      "text/plain": [
       "10k             50\n",
       "name             0\n",
       "division         0\n",
       "25k            216\n",
       "gender           0\n",
       "age              0\n",
       "official         0\n",
       "bib              0\n",
       "genderdiv        0\n",
       "ctz          30740\n",
       "35k             34\n",
       "overall          0\n",
       "pace             0\n",
       "state         2576\n",
       "30k             40\n",
       "5k              52\n",
       "half            72\n",
       "20k             51\n",
       "country          0\n",
       "city             1\n",
       "40k             39\n",
       "dtype: int64"
      ]
     },
     "execution_count": 35,
     "metadata": {},
     "output_type": "execute_result"
    }
   ],
   "source": [
    "boston.isnull().sum()"
   ]
  },
  {
   "cell_type": "code",
   "execution_count": 8,
   "metadata": {},
   "outputs": [
    {
     "data": {
      "text/plain": [
       "727"
      ]
     },
     "execution_count": 8,
     "metadata": {},
     "output_type": "execute_result"
    }
   ],
   "source": [
    "len(boston['pace'].unique())"
   ]
  },
  {
   "cell_type": "code",
   "execution_count": 81,
   "metadata": {},
   "outputs": [
    {
     "data": {
      "text/plain": [
       "10k          0\n",
       "name         0\n",
       "division     0\n",
       "25k          0\n",
       "gender       0\n",
       "age          0\n",
       "official     0\n",
       "bib          0\n",
       "genderdiv    0\n",
       "35k          0\n",
       "overall      0\n",
       "pace         0\n",
       "30k          0\n",
       "5k           0\n",
       "half         0\n",
       "20k          0\n",
       "country      0\n",
       "city         0\n",
       "40k          0\n",
       "dtype: int64"
      ]
     },
     "execution_count": 81,
     "metadata": {},
     "output_type": "execute_result"
    }
   ],
   "source": [
    "# gonna drop the citizenship('ctz') and state columns cuz of high missing value counts\n",
    "# then drop the other rows\n",
    "boston = boston.drop(['ctz', 'state'], axis=1)\n",
    "boston.dropna(axis=0, how='any', inplace=True)\n",
    "boston.isnull().sum()"
   ]
  },
  {
   "cell_type": "code",
   "execution_count": 146,
   "metadata": {},
   "outputs": [],
   "source": [
    "boston['gender'] = boston['gender'].astype('category')\n",
    "boston['country'] = boston['country'].astype('category')\n",
    "boston['city'] = boston['city'].astype('category')\n",
    "\n",
    "\n",
    "boston['gender_cat'] = boston['gender'].cat.codes\n",
    "boston['country_cat'] = boston['country'].cat.codes\n",
    "boston['city_cat'] = boston['city'].cat.codes\n"
   ]
  },
  {
   "cell_type": "code",
   "execution_count": 149,
   "metadata": {},
   "outputs": [
    {
     "data": {
      "text/plain": [
       "10k             float64\n",
       "name             object\n",
       "division          int64\n",
       "25k             float64\n",
       "gender         category\n",
       "age               int64\n",
       "official        float64\n",
       "bib              object\n",
       "genderdiv         int64\n",
       "35k             float64\n",
       "overall           int64\n",
       "pace            float64\n",
       "30k             float64\n",
       "5k              float64\n",
       "half            float64\n",
       "20k             float64\n",
       "country        category\n",
       "city           category\n",
       "40k             float64\n",
       "gender_cat         int8\n",
       "country_cat        int8\n",
       "city_cat          int16\n",
       "dtype: object"
      ]
     },
     "execution_count": 149,
     "metadata": {},
     "output_type": "execute_result"
    }
   ],
   "source": [
    "boston.dtypes"
   ]
  },
  {
   "cell_type": "code",
   "execution_count": null,
   "metadata": {
    "collapsed": true
   },
   "outputs": [],
   "source": []
  },
  {
   "cell_type": "code",
   "execution_count": 38,
   "metadata": {
    "collapsed": true
   },
   "outputs": [],
   "source": [
    "# all your data are belong to normalize\n",
    "\n",
    "#boston['10k'] = normalize(boston['10k'].values.reshape(-1,1))\n",
    "#boston['25k'] = normalize(boston['25k'].values.reshape(-1,1))\n",
    "#boston['35k'] = normalize(boston['35k'].values.reshape(-1,1))\n",
    "#boston['30k'] = normalize(boston['30k'].values.reshape(-1,1))\n",
    "#boston['5k'] = normalize(boston['5k'].values.reshape(-1,1))\n",
    "#boston['half'] = normalize(boston['half'].values.reshape(-1,1))\n",
    "#boston['20k'] = normalize(boston['20k'].values.reshape(-1,1))\n",
    "#boston['40k'] = normalize(boston['40k'].values.reshape(-1,1))\n",
    "#boston['official'] = normalize(boston['official'].values.reshape(-1,1))\n",
    "#boston['pace'] = normalize(boston['pace'].values.reshape(-1,1))\n"
   ]
  },
  {
   "cell_type": "code",
   "execution_count": 39,
   "metadata": {
    "collapsed": true
   },
   "outputs": [],
   "source": [
    "# init algorithms here\n",
    "from sklearn.model_selection import train_test_split\n",
    "from sklearn.preprocessing import normalize\n",
    "\n",
    "# frickin KMeans\n",
    "from sklearn.cluster import KMeans\n",
    "\n",
    "# mean shift\n",
    "from sklearn.cluster import MeanShift, estimate_bandwidth\n",
    "\n",
    "# spectral clustering\n",
    "from sklearn.cluster import SpectralClustering\n",
    "\n",
    "# affinity propogation\n",
    "from sklearn.cluster import AffinityPropagation\n"
   ]
  },
  {
   "cell_type": "code",
   "execution_count": 166,
   "metadata": {},
   "outputs": [],
   "source": [
    "# Make X and Y here\n",
    "# trying out all columns\n",
    "# 'country' is the target variable\n",
    "\n",
    "agetimeX = boston.iloc[:, [5,6]]\n",
    "num_X = boston.iloc[:, [0,2,3,5,8,9,10,11,12,13,14,15,16,18,19,21]]\n",
    "all_X = boston.iloc[:, [0,1,2,3,4,5,6,7,8,9,10,11,12,13,14,15,16,17,18,19,21]]\n",
    "y = boston.iloc[:, 20]\n",
    "# don't know if y needs to be binary..."
   ]
  },
  {
   "cell_type": "code",
   "execution_count": 150,
   "metadata": {},
   "outputs": [
    {
     "data": {
      "text/plain": [
       "19"
      ]
     },
     "execution_count": 150,
     "metadata": {},
     "output_type": "execute_result"
    }
   ],
   "source": [
    "# pick a damn y variable already\n",
    "boston.columns.get_loc('gender_cat')"
   ]
  },
  {
   "cell_type": "code",
   "execution_count": 154,
   "metadata": {
    "scrolled": true
   },
   "outputs": [
    {
     "data": {
      "text/plain": [
       "1    17484\n",
       "0    14164\n",
       "Name: gender_cat, dtype: int64"
      ]
     },
     "execution_count": 154,
     "metadata": {},
     "output_type": "execute_result"
    }
   ],
   "source": [
    "boston['gender_cat'].value_counts()"
   ]
  },
  {
   "cell_type": "markdown",
   "metadata": {},
   "source": [
    "Ok, so I changed the X variable a couple of times and ran the cells a few times. What I found is that when I add in all the columns, there were errors and I changed it to be only the columns that are numeric in value. I tried running the algorithms without using PCA to bring in only 2 features, but it just put predicted 1 cluster"
   ]
  },
  {
   "cell_type": "code",
   "execution_count": 180,
   "metadata": {},
   "outputs": [],
   "source": [
    "# split your data into training and test sets.\n",
    "# roll it down to 2 features so we can graph this stuff!\n",
    "\n",
    "X_norm = normalize(num_X) # for kmeans\n",
    "X_pca = PCA(2).fit_transform(X_norm) #for kmeans\n",
    "\n",
    "X_train, X_test, y_train, y_test = train_test_split(\n",
    "    X_pca,\n",
    "    y,\n",
    "    test_size=0.9)"
   ]
  },
  {
   "cell_type": "code",
   "execution_count": 181,
   "metadata": {},
   "outputs": [
    {
     "data": {
      "image/png": "[encoded data removed]",
      "text/plain": [
       "<matplotlib.figure.Figure at 0x11b3f5710>"
      ]
     },
     "metadata": {},
     "output_type": "display_data"
    },
    {
     "name": "stdout",
     "output_type": "stream",
     "text": [
      "Comparing k-means clusters against the data:\n",
      "country_cat  0   1   2   3   4   5   6   7   8   9  ...  68  69  70  71  72  \\\n",
      "row_0                                               ...                       \n",
      "0            11  91  19   2   1  24  17   0   1  65 ...  13   1   4  17   1   \n",
      "1             4  32   2   0   0   3   0   1   0  20 ...   5   0   0   0   2   \n",
      "\n",
      "country_cat  73     74  75  76  77  \n",
      "row_0                               \n",
      "0             1  23645  18   0   1  \n",
      "1             0   3294   1   1   0  \n",
      "\n",
      "[2 rows x 78 columns]\n"
     ]
    }
   ],
   "source": [
    "\n",
    "y_pred = KMeans(n_clusters=2).fit_predict(X_pca)\n",
    "\n",
    "# Plot the solution.\n",
    "plt.scatter(X_pca[:, 0], X_pca[:, 1], c=y_pred)\n",
    "plt.show()\n",
    "\n",
    "# Check the solution against the data.\n",
    "print('Comparing k-means clusters against the data:')\n",
    "print(pd.crosstab(y_pred, y))"
   ]
  },
  {
   "cell_type": "code",
   "execution_count": 182,
   "metadata": {},
   "outputs": [
    {
     "data": {
      "image/png": "[encoded data removed]",
      "text/plain": [
       "<matplotlib.figure.Figure at 0x11b47ff28>"
      ]
     },
     "metadata": {},
     "output_type": "display_data"
    },
    {
     "name": "stdout",
     "output_type": "stream",
     "text": [
      "Comparing k-means clusters against the data:\n",
      "country_cat  0   1   2   3   4   5   6   7   8   9  ...  68  69  70  71  72  \\\n",
      "row_0                                               ...                       \n",
      "0             7  59  14   2   1  16  15   0   1  40 ...   5   1   4  12   1   \n",
      "1             3  22   2   0   0   2   0   1   0  17 ...   2   0   0   0   2   \n",
      "2             5  42   5   0   0   9   2   0   0  28 ...  11   0   0   5   0   \n",
      "\n",
      "country_cat  73     74  75  76  77  \n",
      "row_0                               \n",
      "0             1  18709  12   0   0  \n",
      "1             0   2521   0   1   0  \n",
      "2             0   5709   7   0   1  \n",
      "\n",
      "[3 rows x 78 columns]\n"
     ]
    }
   ],
   "source": [
    "y_pred = KMeans(n_clusters=3).fit_predict(X_pca)\n",
    "\n",
    "# Plot the solution.\n",
    "plt.scatter(X_pca[:, 0], X_pca[:, 1], c=y_pred)\n",
    "plt.show()\n",
    "\n",
    "# Check the solution against the data.\n",
    "print('Comparing k-means clusters against the data:')\n",
    "print(pd.crosstab(y_pred, y))"
   ]
  },
  {
   "cell_type": "code",
   "execution_count": null,
   "metadata": {
    "collapsed": true
   },
   "outputs": [],
   "source": [
    "# Each batch will be made up of 200 data points.\n",
    "minibatchkmeans = MiniBatchKMeans(\n",
    "    init='random',\n",
    "    n_clusters=2,\n",
    "    batch_size=200)\n",
    "minibatchkmeans.fit(X_pca)\n",
    "\n",
    "# Add the new predicted cluster memberships to the data frame.\n",
    "predict_mini = minibatchkmeans.predict(X_pca)\n",
    "\n",
    "# Check the MiniBatch model against our earlier one.\n",
    "print('Comparing k-means and mini batch k-means solutions:')\n",
    "print(pd.crosstab(predict_mini, y_pred))"
   ]
  },
  {
   "cell_type": "code",
   "execution_count": 175,
   "metadata": {
    "collapsed": true
   },
   "outputs": [],
   "source": [
    "# New test and training sets for different algorithms\n",
    "# using the normalized X because it's good to normalize your data, right?\n",
    "X_train2, X_test2, y_train2, y_test2 = train_test_split(X_norm, y, test_size=0.8)"
   ]
  },
  {
   "cell_type": "code",
   "execution_count": 177,
   "metadata": {},
   "outputs": [
    {
     "name": "stdout",
     "output_type": "stream",
     "text": [
      "Number of estimated clusters: 6\n"
     ]
    }
   ],
   "source": [
    "# Mean Shift!\n",
    "bandwidth = estimate_bandwidth(X_train2, quantile=0.2, n_samples=500)\n",
    "\n",
    "# Declare and fit the model.\n",
    "ms = MeanShift(bandwidth=bandwidth, bin_seeding=True)\n",
    "ms.fit(X_train2)\n",
    "\n",
    "# Extract cluster assignments for each data point.\n",
    "labels = ms.labels_\n",
    "\n",
    "# Coordinates of the cluster centers.\n",
    "cluster_centers = ms.cluster_centers_\n",
    "\n",
    "# Count our clusters.\n",
    "n_clusters_ = len(np.unique(labels))\n",
    "\n",
    "print(\"Number of estimated clusters: {}\".format(n_clusters_))\n"
   ]
  },
  {
   "cell_type": "code",
   "execution_count": 179,
   "metadata": {
    "scrolled": false
   },
   "outputs": [
    {
     "data": {
      "image/png": "[encoded data removed]",
      "text/plain": [
       "<matplotlib.figure.Figure at 0x11b4479e8>"
      ]
     },
     "metadata": {},
     "output_type": "display_data"
    },
    {
     "name": "stdout",
     "output_type": "stream",
     "text": [
      "Comparing the assigned categories to the ones in the data:\n",
      "col_0           0    1    2  3   4   5\n",
      "country_cat                           \n",
      "1              19    2    1  0   0   0\n",
      "2               3    0    0  0   0   0\n",
      "3               1    0    0  0   0   0\n",
      "5               5    0    0  0   1   0\n",
      "6               2    0    0  0   0   0\n",
      "7               0    0    1  0   0   0\n",
      "9              17    3    2  0   1   0\n",
      "11            356   50   13  0   3   0\n",
      "13              7    1    1  0   0   0\n",
      "14             11    0    1  0   0   0\n",
      "15             12    0    0  0   1   0\n",
      "16              5    0    0  0   0   0\n",
      "17              1    0    0  0   0   0\n",
      "19              7    0    0  0   0   0\n",
      "24             14    2    2  0   0   0\n",
      "26              0    0    0  1   0   0\n",
      "27              6    2    0  0   0   0\n",
      "28             18    7    0  0   0   0\n",
      "29             65    8    5  0   2   0\n",
      "30             34    1    1  0   1   0\n",
      "31              3    0    0  0   0   0\n",
      "32              2    0    0  0   0   0\n",
      "33              9    0    0  0   0   0\n",
      "34              1    0    0  0   0   0\n",
      "37             17    0    0  0   1   0\n",
      "38              4    2    0  0   0   0\n",
      "40             28    5    0  0   0   0\n",
      "41             27    4    3  0   0   0\n",
      "42              0    0    2  0   0   0\n",
      "43             12    0    0  0   0   0\n",
      "46              0    0    1  0   0   0\n",
      "47              1    0    0  0   0   0\n",
      "48             29    2    0  0   1   0\n",
      "49              7    1    1  0   0   0\n",
      "50              2    3    0  0   0   0\n",
      "51              2    0    0  0   0   0\n",
      "52              0    1    0  0   0   0\n",
      "54              1    0    0  0   0   0\n",
      "55              3    0    1  0   0   0\n",
      "58              1    0    0  0   0   0\n",
      "59              3    0    1  0   0   0\n",
      "60              3    0    0  0   0   0\n",
      "61              3    1    1  0   0   0\n",
      "62              1    0    0  0   0   0\n",
      "63             11    4    3  0   0   0\n",
      "64              1    0    0  0   0   0\n",
      "65              6    6    2  0   1   0\n",
      "68              1    1    0  0   0   0\n",
      "71              2    0    0  0   0   0\n",
      "73              1    0    0  0   0   0\n",
      "74           4772  395  144  6  74  10\n",
      "75              2    0    0  0   0   0\n",
      "77              1    0    0  0   0   0\n"
     ]
    }
   ],
   "source": [
    "plt.scatter(X_train2[:,0], X_train2[:,1], c=labels)\n",
    "plt.show()\n",
    "\n",
    "print('Comparing the assigned categories to the ones in the data:')\n",
    "print(pd.crosstab(y_train2,labels))"
   ]
  },
  {
   "cell_type": "code",
   "execution_count": 172,
   "metadata": {},
   "outputs": [
    {
     "name": "stdout",
     "output_type": "stream",
     "text": [
      "Done\n",
      "Estimated number of clusters: 202\n"
     ]
    }
   ],
   "source": [
    "# Declare the model and fit it in one statement.\n",
    "# Note that you can provide arguments to the model, but we didn't.\n",
    "af = AffinityPropagation().fit(X_train2)\n",
    "print('Done')\n",
    "\n",
    "# Pull the number of clusters and cluster assignments for each data point.\n",
    "cluster_centers_indices = af.cluster_centers_indices_\n",
    "n_clusters_ = len(cluster_centers_indices)\n",
    "labels = af.labels_\n",
    "\n",
    "print('Estimated number of clusters: {}'.format(n_clusters_))\n"
   ]
  },
  {
   "cell_type": "code",
   "execution_count": 173,
   "metadata": {},
   "outputs": [
    {
     "data": {
      "image/png": "[encoded data removed]",
      "text/plain": [
       "<matplotlib.figure.Figure at 0x1270c3dd8>"
      ]
     },
     "metadata": {},
     "output_type": "display_data"
    },
    {
     "name": "stdout",
     "output_type": "stream",
     "text": [
      "Comparing the assigned categories to the ones in the data:\n",
      "col_0          0     1    2    3    4\n",
      "country_cat                          \n",
      "0              1     1    0    0    0\n",
      "1              1     4    1    3    3\n",
      "2              1     1    0    0    0\n",
      "4              0     1    0    0    0\n",
      "5              0     2    0    2    0\n",
      "6              0     1    0    0    0\n",
      "9              3     4    0    2    0\n",
      "11            35    86   18   77   11\n",
      "13             0     2    0    1    0\n",
      "14             1     1    0    0    0\n",
      "15             0     0    0    0    2\n",
      "16             0     2    1    0    0\n",
      "17             1     0    0    0    0\n",
      "18             0     0    0    1    0\n",
      "19             1     2    1    4    0\n",
      "21             0     0    0    1    0\n",
      "24             2     3    2    5    0\n",
      "26             0     1    0    0    0\n",
      "27             0     0    0    2    0\n",
      "28             0     4    2    3    0\n",
      "29             5    12    4   12    3\n",
      "30             1     4    0    5    0\n",
      "31             1     0    0    0    0\n",
      "32             1     2    0    0    0\n",
      "33             3     1    0    2    1\n",
      "36             0     0    0    1    0\n",
      "37             1     6    1    4    0\n",
      "38             0     0    0    1    0\n",
      "40             7     2    0    3    0\n",
      "41             3     4    3    3    0\n",
      "42             0     1    0    0    0\n",
      "43             1     0    0    4    0\n",
      "47             0     0    0    1    0\n",
      "48             3    13    1    9    1\n",
      "49             0     5    0    3    1\n",
      "50             0     1    0    1    0\n",
      "51             0     0    0    1    0\n",
      "52             0     0    0    1    0\n",
      "53             0     0    0    1    0\n",
      "55             0     0    0    2    0\n",
      "56             0     1    0    0    0\n",
      "59             0     3    0    0    0\n",
      "61             1     1    0    1    0\n",
      "62             1     1    0    0    0\n",
      "63             1     3    1    2    0\n",
      "65             0     2    1    3    0\n",
      "67             0     0    1    0    0\n",
      "68             0     2    0    0    0\n",
      "71             0     0    0    1    0\n",
      "74           403  1031  247  868  137\n",
      "75             0     2    0    1    0\n"
     ]
    }
   ],
   "source": [
    "# We think we know we're looking for three clusters.\n",
    "n_clusters=5\n",
    "\n",
    "# Declare and fit the model.\n",
    "sc = SpectralClustering(n_clusters=n_clusters)\n",
    "sc.fit(X_train2)\n",
    "\n",
    "#Predicted clusters.\n",
    "predict=sc.fit_predict(X_train2)\n",
    "\n",
    "#Graph results.\n",
    "plt.scatter(X_train2[:, 0], X_train2[:, 1], c=predict)\n",
    "plt.show()\n",
    "\n",
    "print('Comparing the assigned categories to the ones in the data:')\n",
    "print(pd.crosstab(y_train,predict))"
   ]
  },
  {
   "cell_type": "code",
   "execution_count": null,
   "metadata": {
    "collapsed": true
   },
   "outputs": [],
   "source": []
  }
 ],
 "metadata": {
  "anaconda-cloud": {},
  "kernelspec": {
   "display_name": "Python [default]",
   "language": "python",
   "name": "python3"
  },
  "language_info": {
   "codemirror_mode": {
    "name": "ipython",
    "version": 3
   },
   "file_extension": ".py",
   "mimetype": "text/x-python",
   "name": "python",
   "nbconvert_exporter": "python",
   "pygments_lexer": "ipython3",
   "version": "3.6.1"
  }
 },
 "nbformat": 4,
 "nbformat_minor": 2
}
